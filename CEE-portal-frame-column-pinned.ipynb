{
 "cells": [
  {
   "cell_type": "markdown",
   "id": "ab982abe",
   "metadata": {
    "slideshow": {
     "slide_type": ""
    },
    "tags": []
   },
   "source": [
    "# CEE Portal Frame Column Check"
   ]
  },
  {
   "cell_type": "code",
   "execution_count": 1100,
   "id": "fb98c3c3",
   "metadata": {},
   "outputs": [],
   "source": [
    "import math"
   ]
  },
  {
   "cell_type": "markdown",
   "id": "c8409066",
   "metadata": {
    "slideshow": {
     "slide_type": ""
    },
    "tags": []
   },
   "source": [
    "### Input Data"
   ]
  },
  {
   "cell_type": "code",
   "execution_count": 1101,
   "id": "31476378-f8fa-4599-a753-ec6a75e45f19",
   "metadata": {
    "slideshow": {
     "slide_type": ""
    },
    "tags": []
   },
   "outputs": [
    {
     "data": {
      "application/vnd.jupyter.widget-view+json": {
       "model_id": "54496969fb654b18858fa1100d87d984",
       "version_major": 2,
       "version_minor": 0
      },
      "text/plain": [
       "VBox(children=(HBox(children=(Label(value='Column Length:', layout=Layout(width='150px')), FloatText(value=700…"
      ]
     },
     "metadata": {},
     "output_type": "display_data"
    }
   ],
   "source": [
    "import ipywidgets as widgets\n",
    "from IPython.display import display, HTML\n",
    "\n",
    "# Dictionary to store current values\n",
    "if 'widget_values' not in globals():\n",
    "    widget_values = {\n",
    "        'column_length': 4000.0,\n",
    "        'axial_compression': 30.0,\n",
    "        'bending_moment_eave': 50.0,\n",
    "        'number_girts': 1,\n",
    "        'fy': 450.0,\n",
    "        'gammaM1': 1.0\n",
    "    }\n",
    "\n",
    "# Define widgets without description\n",
    "column_length = widgets.FloatText(value=widget_values['column_length'], step=100.0, layout={'width': '150px'})\n",
    "axial_compression = widgets.FloatText(value=widget_values['axial_compression'], step=1.0, layout={'width': '150px'})\n",
    "bending_moment_eave = widgets.FloatText(value=widget_values['bending_moment_eave'], step=1.0, layout={'width': '150px'})\n",
    "number_girts = widgets.IntText(value=widget_values['number_girts'], layout={'width': '150px'})\n",
    "fy = widgets.FloatText(value=widget_values['fy'], step=10.0, layout={'width': '150px'})\n",
    "gammaM1 = widgets.FloatText(value=widget_values['gammaM1'], step=0.1, layout={'width': '150px'})\n",
    "\n",
    "output_form = widgets.Output()\n",
    "\n",
    "def update_output(*args):\n",
    "    with output_form:\n",
    "        output_form.clear_output()\n",
    "        widget_values['column_length'] = column_length.value\n",
    "        widget_values['axial_compression'] = axial_compression.value\n",
    "        widget_values['bending_moment_eave'] = bending_moment_eave.value\n",
    "        widget_values['number_girts'] = number_girts.value\n",
    "        widget_values['fy'] = fy.value\n",
    "        widget_values['gammaM1'] = gammaM1.value\n",
    "        display(HTML(f\"\"\"\n",
    "            <h3>Current Values:</h3>\n",
    "            <p>Column Length: {column_length.value} mm</p>\n",
    "            <p>Axial Compression: {axial_compression.value} kN</p>\n",
    "            <p>Bending Moment Eave: {bending_moment_eave.value} kNm</p>\n",
    "            <p>Number of Girts: {number_girts.value}</p>\n",
    "            <p>Fy: {fy.value} MPa</p>\n",
    "            <p>gammaM1: {gammaM1.value}</p>\n",
    "        \"\"\"))\n",
    "\n",
    "# Observe widget changes\n",
    "for widget in [column_length, axial_compression, bending_moment_eave, number_girts, fy, gammaM1]:\n",
    "    widget.observe(update_output, names='value')\n",
    "\n",
    "# Define labels and descriptions\n",
    "fields = [\n",
    "    ('column_length', column_length, 'Column length in [mm]'),\n",
    "    ('axial_compression', axial_compression, 'Axial compression force in [kN] from frame analysis. '),\n",
    "    ('bending_moment_eave', bending_moment_eave, 'Bending moment at eave in [kNm] from frame analysis'),\n",
    "    ('number_girts', number_girts, 'Number of side girts (that include fly-bracing). Side girts provide out of plane restraints.'),\n",
    "    ('fy', fy, 'Yield limit strength in [MPa]'),\n",
    "    ('gammaM1', gammaM1, 'Partial safety factor for material')\n",
    "]\n",
    "\n",
    "# Create form with label, widget, and description\n",
    "form_items = []\n",
    "for label, widget, description in fields:\n",
    "    # Convert variable name to readable label (e.g., 'column_length' to 'Column Length')\n",
    "    readable_label = label.replace('_', ' ').title()\n",
    "    # Create HBox for each row: label, widget, description\n",
    "    row = widgets.HBox([\n",
    "        widgets.Label(value=readable_label + ':', layout={'width': '150px', 'text_align': 'right'}),\n",
    "        widget,\n",
    "        widgets.Label(value=description, layout={'width': '200px', 'padding': '0px 0px 0px 10px'})\n",
    "    ])\n",
    "    form_items.append(row)\n",
    "\n",
    "# Organize form\n",
    "form = widgets.VBox(\n",
    "    form_items + [output_form],\n",
    "    layout={'width': '650px', 'padding': '10px'}\n",
    ")\n",
    "\n",
    "display(form)\n",
    "update_output()"
   ]
  },
  {
   "cell_type": "code",
   "execution_count": 1102,
   "id": "8a6cd129",
   "metadata": {},
   "outputs": [],
   "source": [
    "# input data\n",
    "# column_length = 4000.0            # [mm]\n",
    "# axial_compression = 30.0          # [kN]\n",
    "# bending_moment_eave = 50.00       # [kNm]\n",
    "# number_girts = 1                  # [-] number of girts, assuming fly-bracing at every girt\n",
    "# fy = 450.0                        # [MPa] yield stress\n",
    "# gammaM1 = 1.0                     # [-] partial safety factor"
   ]
  },
  {
   "cell_type": "code",
   "execution_count": 1103,
   "id": "52e75efb",
   "metadata": {},
   "outputs": [],
   "source": [
    "E = 210000.0                      # [MPa] Young's modulus\n",
    "G = 81000.0                       # [MPa] shear modulus"
   ]
  },
  {
   "cell_type": "markdown",
   "id": "60a39b39",
   "metadata": {},
   "source": [
    "### Profile"
   ]
  },
  {
   "cell_type": "code",
   "execution_count": 1104,
   "id": "5b2ce69b-3de9-4c3c-9a31-796d30c1cc68",
   "metadata": {},
   "outputs": [
    {
     "data": {
      "application/vnd.jupyter.widget-view+json": {
       "model_id": "41392d2e0cd54880a55d31e4afe6df01",
       "version_major": 2,
       "version_minor": 0
      },
      "text/plain": [
       "VBox(children=(Dropdown(description='Section set:', index=1, options=('Single', 'Back-to-back'), value='Back-t…"
      ]
     },
     "metadata": {},
     "output_type": "display_data"
    }
   ],
   "source": [
    "import ipywidgets as widgets\n",
    "from IPython.display import display\n",
    "\n",
    "# Global variable to store the Section_set integer value\n",
    "global Section_set\n",
    "try:\n",
    "    Section_set  # Check if it already exists\n",
    "except NameError:\n",
    "    Section_set = 1  # Default to 1 (\"Single\") if not set\n",
    "\n",
    "# Mapping for Section_set: integer to text and text to integer\n",
    "section_set_map = {1: 'Single', 2: 'Back-to-back'}\n",
    "section_set_reverse_map = {'Single': 1, 'Back-to-back': 2}\n",
    "\n",
    "# Create the list box widget\n",
    "section_set_widget = widgets.Dropdown(\n",
    "    options=['Single', 'Back-to-back'],\n",
    "    value=section_set_map[Section_set],  # Set initial value based on Section_set\n",
    "    description='Section set:'\n",
    ")\n",
    "\n",
    "# Output widget to display the current value\n",
    "output_section = widgets.Output()  # Renamed to output_section\n",
    "\n",
    "# Function to update Section_set when selection changes\n",
    "def on_selection_change(change):\n",
    "    global Section_set\n",
    "    if change['type'] == 'change' and change['name'] == 'value':\n",
    "        Section_set = section_set_reverse_map[change['new']]  # Update integer value\n",
    "        with output_section:\n",
    "            output_section.clear_output()\n",
    "            print(f\"Section_set: {Section_set} ({change['new']})\")\n",
    "\n",
    "# Observe the widget for changes\n",
    "section_set_widget.observe(on_selection_change, names='value')\n",
    "\n",
    "# Initial display of the current value\n",
    "with output_section:\n",
    "    print(f\"Section_set: {Section_set} ({section_set_map[Section_set]})\")\n",
    "\n",
    "# Display the widget and output\n",
    "display(widgets.VBox([section_set_widget, output_section]))"
   ]
  },
  {
   "cell_type": "code",
   "execution_count": null,
   "id": "2f7340c4-2668-4ae2-817b-9d7fb3cd3796",
   "metadata": {},
   "outputs": [],
   "source": []
  },
  {
   "cell_type": "code",
   "execution_count": 1105,
   "id": "9bf37bea-b68d-48c5-8c94-75dcca7ae46b",
   "metadata": {},
   "outputs": [
    {
     "data": {
      "application/vnd.jupyter.widget-view+json": {
       "model_id": "596b2bb4d4694d01b15a0f18f8e0a3c4",
       "version_major": 2,
       "version_minor": 0
      },
      "text/plain": [
       "VBox(children=(HBox(children=(Select(description='SupplierName:', index=1, options=('Lysaght', 'Steadmans', 'S…"
      ]
     },
     "metadata": {},
     "output_type": "display_data"
    }
   ],
   "source": [
    "import sqlite3\n",
    "import pandas as pd\n",
    "import ipywidgets as widgets\n",
    "from IPython.display import display\n",
    "\n",
    "# Global variable to store properties\n",
    "global_section_properties = {}\n",
    "\n",
    "# Global variables to store the last selected values\n",
    "global last_supplier_selected\n",
    "global last_title_selected\n",
    "try:\n",
    "    last_supplier_selected\n",
    "except NameError:\n",
    "    last_supplier_selected = None\n",
    "try:\n",
    "    last_title_selected\n",
    "except NameError:\n",
    "    last_title_selected = None\n",
    "\n",
    "# Connect to the SQLite database\n",
    "# Construct the path to the database\n",
    "db_path = os.path.join(\"..\", \"..\", \"..\", \"DB\", \"database_sqlite\", \"clcSections.db\")\n",
    "conn = sqlite3.connect(db_path)\n",
    "#conn = sqlite3.connect('../DB/clcSections.db')\n",
    "\n",
    "\n",
    "\n",
    "# Read \"ID\" and \"SupplierName\" from the \"Supplier\" table\n",
    "supplier_query = 'SELECT \"ID\", \"SupplierName\" FROM \"Supplier\"'\n",
    "supplier_df = pd.read_sql_query(supplier_query, conn)\n",
    "\n",
    "# Read \"ShortTitle\", \"Supplier\", and \"Section\" from \"KitCF-Cee\" table\n",
    "kit_query = 'SELECT \"ShortTitle\", \"Supplier\", \"Section\" FROM \"KitCF-Cee\"'\n",
    "kit_df = pd.read_sql_query(kit_query, conn)\n",
    "\n",
    "# Read sectional properties from \"CF-Cee\" table\n",
    "cfcee_query = 'SELECT \"ID\", \"Name\", \"Height\", \"Thickness\", \"Mass\", \"Width\", \"Lip\", \"A\", \"Ix\", \"Iy\", \"Zx\", \"Zy\", \"rx\", \"ry\", \"Xcg\", \"Xsc\", \"It\", \"Iw\" FROM \"CF-Cee\"'\n",
    "cfcee_df = pd.read_sql_query(cfcee_query, conn)\n",
    "\n",
    "# Close the connection\n",
    "conn.close()\n",
    "\n",
    "# Get unique Supplier IDs from KitCF-Cee\n",
    "valid_supplier_ids = kit_df['Supplier'].dropna().unique()\n",
    "\n",
    "# Filter Supplier table to only include rows where ID is in KitCF-Cee's Supplier column\n",
    "filtered_supplier_df = supplier_df[supplier_df['ID'].isin(valid_supplier_ids)]\n",
    "\n",
    "# Create a mapping of SupplierName to ID for the filtered suppliers\n",
    "supplier_map = dict(zip(filtered_supplier_df['SupplierName'], filtered_supplier_df['ID']))\n",
    "supplier_options = filtered_supplier_df['SupplierName'].dropna().unique().tolist()\n",
    "\n",
    "# Create the supplier name list widget\n",
    "supplier_list = widgets.Select(\n",
    "    options=supplier_options,\n",
    "    value=(last_supplier_selected if last_supplier_selected in supplier_options else \n",
    "           supplier_options[0] if supplier_options else None),\n",
    "    description='SupplierName:',\n",
    "    rows=min(len(supplier_options), 10),\n",
    "    disabled=False\n",
    ")\n",
    "\n",
    "# Create the ShortTitle list widget\n",
    "title_list = widgets.Select(\n",
    "    options=[],\n",
    "    description='ShortTitle:',\n",
    "    rows=10,\n",
    "    disabled=False\n",
    ")\n",
    "\n",
    "# Create an Output widget for displaying results\n",
    "output = widgets.Output()\n",
    "\n",
    "# Function to update sectional properties and display them as a table\n",
    "def update_sectional_properties(supplier_name, short_title):\n",
    "    global last_supplier_selected, last_title_selected, global_section_properties\n",
    "    last_supplier_selected = supplier_name\n",
    "    last_title_selected = short_title\n",
    "    \n",
    "    selected_supplier_id = supplier_map.get(supplier_name)\n",
    "    \n",
    "    # Get the Section (ID) from KitCF-Cee\n",
    "    section_matches = kit_df[(kit_df['ShortTitle'] == short_title) & \n",
    "                            (kit_df['Supplier'] == selected_supplier_id)]['Section']\n",
    "    \n",
    "    with output:\n",
    "        output.clear_output()  # Clear previous output\n",
    "        \n",
    "        if section_matches.empty:\n",
    "            print(\"No matching section found for this Supplier and ShortTitle combination.\")\n",
    "            return\n",
    "        elif len(section_matches) > 1:\n",
    "            print(f\"Warning: Multiple Section IDs found for Supplier: {supplier_name}, ShortTitle: {short_title}. Using the first one.\")\n",
    "        \n",
    "        section_id = section_matches.iloc[0]\n",
    "        \n",
    "        # Fetch the row from CF-Cee\n",
    "        section_data = cfcee_df[cfcee_df['ID'] == section_id]\n",
    "        \n",
    "        if section_data.empty:\n",
    "            print(f\"No sectional properties found in CF-Cee for Section ID: {section_id}\")\n",
    "            return\n",
    "        \n",
    "        section_data = section_data.iloc[0]\n",
    "        \n",
    "        # Assign properties to variables\n",
    "        ID = section_data['ID']\n",
    "        Name = section_data['Name']\n",
    "        Height = section_data['Height']\n",
    "        Thickness = section_data['Thickness']\n",
    "        Mass = section_data['Mass']\n",
    "        Width = section_data['Width']\n",
    "        Lip = section_data['Lip']\n",
    "        A = section_data['A']\n",
    "        Ix = section_data['Ix']\n",
    "        Iy = section_data['Iy']\n",
    "        Zx = section_data['Zx']\n",
    "        Zy = section_data['Zy']\n",
    "        rx = section_data['rx']\n",
    "        ry = section_data['ry']\n",
    "        Xcg = section_data['Xcg']\n",
    "        Xsc = section_data['Xsc']\n",
    "        It = section_data['It']\n",
    "        Iw = section_data['Iw']\n",
    "        \n",
    "        # Create a dictionary of properties\n",
    "        properties = {\n",
    "            'ID': ID, 'Name': Name, 'Height': Height, 'Thickness': Thickness, 'Mass': Mass,\n",
    "            'Width': Width, 'Lip': Lip, 'A': A, 'Ix': Ix, 'Iy': Iy, 'Zx': Zx, 'Zy': Zy,\n",
    "            'rx': rx, 'ry': ry, 'Xcg': Xcg, 'Xsc': Xsc, 'It': It, 'Iw': Iw\n",
    "        }\n",
    "\n",
    "        # Store globally\n",
    "        global_section_properties = properties\n",
    "        \n",
    "        # Convert to a DataFrame for tabular display (single row)\n",
    "        properties_df = pd.DataFrame([properties])\n",
    "        \n",
    "        # Display supplier info and the table\n",
    "        print(f\"Selected SupplierName: {supplier_name} (ID: {selected_supplier_id}), ShortTitle: {short_title}\")\n",
    "        display(properties_df)\n",
    "\n",
    "# Function to update the ShortTitle list and sectional properties\n",
    "def update_titles(change):\n",
    "    selected_supplier_name = change['new']\n",
    "    selected_supplier_id = supplier_map.get(selected_supplier_name)\n",
    "    filtered_titles = kit_df[kit_df['Supplier'] == selected_supplier_id]['ShortTitle'].dropna().unique().tolist()\n",
    "    if filtered_titles:\n",
    "        title_list.options = filtered_titles\n",
    "        title_list.value = (last_title_selected if last_title_selected in filtered_titles else \n",
    "                           filtered_titles[0])\n",
    "        title_list.disabled = False\n",
    "        update_sectional_properties(selected_supplier_name, title_list.value)\n",
    "    else:\n",
    "        title_list.options = [\"No titles available\"]\n",
    "        title_list.disabled = True\n",
    "        with output:\n",
    "            output.clear_output()\n",
    "            print(f\"No ShortTitles available for SupplierName: {selected_supplier_name}\")\n",
    "\n",
    "# Function to handle ShortTitle selection\n",
    "def on_title_change(change):\n",
    "    if change['type'] == 'change' and change['name'] == 'value':\n",
    "        selected_supplier_name = supplier_list.value\n",
    "        selected_short_title = change['new']\n",
    "        update_sectional_properties(selected_supplier_name, selected_short_title)\n",
    "\n",
    "# Attach the update functions to the list widgets\n",
    "supplier_list.observe(update_titles, names='value')\n",
    "title_list.observe(on_title_change, names='value')\n",
    "\n",
    "# Layout the widgets with output below\n",
    "layout = widgets.VBox([widgets.HBox([supplier_list, title_list]), output])\n",
    "\n",
    "# Initialize the title list and properties with the retained or default supplier\n",
    "if supplier_options:\n",
    "    update_titles({'new': supplier_list.value})\n",
    "\n",
    "# Display the layout\n",
    "display(layout)"
   ]
  },
  {
   "cell_type": "code",
   "execution_count": 1106,
   "id": "bb1d226f",
   "metadata": {},
   "outputs": [
    {
     "name": "stdout",
     "output_type": "stream",
     "text": [
      "2\n"
     ]
    }
   ],
   "source": [
    "# Profile\n",
    "print(Section_set)\n",
    "# Sectional properties for back-to-back profile are simplified. Considering both profiles separately.\n",
    "Aeff = global_section_properties['A'] * Section_set\n",
    "Iyeff = global_section_properties['Ix'] * Section_set\n",
    "Izeff = global_section_properties['Iy'] * Section_set\n",
    "Wyeff = global_section_properties['Zx'] * Section_set\n",
    "Wzeff = global_section_properties['Zy'] * Section_set\n",
    "MyeffRd = fy.value * Wyeff \n",
    "MzeffRd = fy.value * Wzeff \n",
    "NRd = Aeff * fy.value / gammaM1.value / 1000\n",
    "MyRd = MyeffRd / 1000000\n",
    "\n",
    "#za = 1000 * global_section_properties['Height'] / 2\n",
    "#zs = 0.0              #[m]\n",
    "#zj = 0.0              #[m]\n",
    "#zg = za - zs          #[m]\n"
   ]
  },
  {
   "cell_type": "code",
   "execution_count": 1107,
   "id": "f4ac55be",
   "metadata": {},
   "outputs": [
    {
     "name": "stdout",
     "output_type": "stream",
     "text": [
      "fy                            =  450.00  [MPa]\n",
      "Wyeff                         =  404740.00  [mm^3]\n",
      "MyRd                          =  182.13  [kNm]\n"
     ]
    }
   ],
   "source": [
    "print(\"fy                            = \", (\"%2.2f\" % fy.value), \" [MPa]\")\n",
    "print(\"Wyeff                         = \", (\"%2.2f\" % Wyeff), \" [mm^3]\")\n",
    "print(\"MyRd                          = \", (\"%2.2f\" % MyRd), \" [kNm]\")\n"
   ]
  },
  {
   "cell_type": "markdown",
   "id": "7272bf27",
   "metadata": {},
   "source": [
    "## Flexural Buckling Capacity of Column"
   ]
  },
  {
   "cell_type": "code",
   "execution_count": 1108,
   "id": "c5467f59",
   "metadata": {},
   "outputs": [
    {
     "name": "stdout",
     "output_type": "stream",
     "text": [
      "lambda_dash_y                 =  0.69  [-]\n",
      "lambda_dash_z                 =  0.80  [-]\n"
     ]
    }
   ],
   "source": [
    "Lcry = column_length.value\n",
    "Lcrz = column_length.value / (number_girts.value + 1)\n",
    "\n",
    "# radius of gyration\n",
    "i_y = 0 if Aeff == 0 else math.sqrt(Iyeff / Aeff)\n",
    "i_z = 0 if Aeff == 0 else math.sqrt(Izeff / Aeff)\n",
    "# slenderness\n",
    "lambda1 = 93.9 if fy.value == 0 else 93.9 * math.sqrt(235/fy.value)\n",
    "lambda_dash_y = 0 if i_y == 0 else Lcry / i_y / lambda1\n",
    "lambda_dash_z = 0 if i_z == 0 else Lcrz / i_z / lambda1\n",
    "\n",
    "print(\"lambda_dash_y                 = \", (\"%2.2f\" % lambda_dash_y), \" [-]\")\n",
    "print(\"lambda_dash_z                 = \", (\"%2.2f\" % lambda_dash_z), \" [-]\")\n"
   ]
  },
  {
   "cell_type": "markdown",
   "id": "9a9d6830",
   "metadata": {},
   "source": [
    "### Buckling Curve and Imperfection Factors"
   ]
  },
  {
   "cell_type": "code",
   "execution_count": 1109,
   "id": "39ce2fc1",
   "metadata": {},
   "outputs": [],
   "source": [
    "curve_y = \"A\"\n",
    "# imperfection factor\n",
    "alpha_y=0.8 \n",
    "if curve_y == \"A0\":\n",
    "    alpha_y=0.13\n",
    "if curve_y == \"A\":\n",
    "    alpha_y=0.21\n",
    "if curve_y == \"B\":\n",
    "    alpha_y=0.34\n",
    "if curve_y == \"C\":\n",
    "    alpha_y=0.49\n",
    "if curve_y == \"D\":\n",
    "    alpha_y=0.76\n",
    "\n",
    "\n",
    "curve_z = \"B\"\n",
    "# imperfection factor\n",
    "alpha_z=0.8 \n",
    "if curve_z == \"A0\":\n",
    "    alpha_z=0.13\n",
    "if curve_z == \"A\":\n",
    "    alpha_z=0.21\n",
    "if curve_z == \"B\":\n",
    "    alpha_z=0.34\n",
    "if curve_z == \"C\":\n",
    "    alpha_z=0.49\n",
    "if curve_z == \"D\":\n",
    "    alpha_z=0.76\n"
   ]
  },
  {
   "cell_type": "markdown",
   "id": "82b103f3",
   "metadata": {},
   "source": [
    "### Flexural Buckling Coefficient"
   ]
  },
  {
   "cell_type": "code",
   "execution_count": 1110,
   "id": "e0e24f4a",
   "metadata": {},
   "outputs": [],
   "source": [
    "PHI_y = 0.5*(1 + alpha_y *(lambda_dash_y - 0.2) + lambda_dash_y**2)\n",
    "PHI_z = 0.5*(1 + alpha_z *(lambda_dash_z - 0.2) + lambda_dash_z**2)\n",
    "chi_y = min(1 / (PHI_y + math.sqrt(PHI_y**2 - lambda_dash_y**2)),1)\n",
    "chi_z = min(1 / (PHI_z + math.sqrt(PHI_z**2 - lambda_dash_z**2)),1)"
   ]
  },
  {
   "cell_type": "code",
   "execution_count": 1111,
   "id": "a065d7bd",
   "metadata": {},
   "outputs": [
    {
     "name": "stdout",
     "output_type": "stream",
     "text": [
      "Lcry                          =  7000.00  [mm]\n",
      "Lcrz                          =  1750.00  [mm]\n",
      "i_y                           =  149.08  [mm]\n",
      "i_z                           =  32.41  [mm]\n",
      "lambda1                       =  67.86  [-]\n",
      "lambda_dash_y                 =  0.69  [-]\n",
      "lambda_dash_z                =  0.80  [-]\n",
      "PHI_y                         =  0.79  [-]\n",
      "PHI_z                         =  0.92  [-]\n",
      "chi_y                        =  0.85  [-]\n",
      "chi_z                        =  0.73  [-]\n"
     ]
    }
   ],
   "source": [
    "print(\"Lcry                          = \", (\"%2.2f\" % Lcry), \" [mm]\")\n",
    "print(\"Lcrz                          = \", (\"%2.2f\" % Lcrz), \" [mm]\")\n",
    "print(\"i_y                           = \", (\"%2.2f\" % i_y), \" [mm]\")\n",
    "print(\"i_z                           = \", (\"%2.2f\" % i_z), \" [mm]\")\n",
    "print(\"lambda1                       = \", (\"%2.2f\" % lambda1), \" [-]\")\n",
    "print(\"lambda_dash_y                 = \", (\"%2.2f\" % lambda_dash_y), \" [-]\")\n",
    "print(\"lambda_dash_z                = \", (\"%2.2f\" % lambda_dash_z), \" [-]\")\n",
    "print(\"PHI_y                         = \", (\"%2.2f\" % PHI_y), \" [-]\")\n",
    "print(\"PHI_z                         = \", (\"%2.2f\" % PHI_z), \" [-]\")\n",
    "print(\"chi_y                        = \", (\"%2.2f\" % chi_y), \" [-]\")\n",
    "print(\"chi_z                        = \", (\"%2.2f\" % chi_z), \" [-]\")\n"
   ]
  },
  {
   "cell_type": "markdown",
   "id": "48e5df7d",
   "metadata": {},
   "source": [
    "## Lateral Buckling Capacity of Column"
   ]
  },
  {
   "cell_type": "code",
   "execution_count": 1112,
   "id": "bc89a8c1",
   "metadata": {},
   "outputs": [],
   "source": [
    "psi_f = 0       # effect of profile assymmetry\n",
    "kz = 1          # simple support for bending\n",
    "kw = 1 # warping not prevented\n",
    "kappa_wt = (math.pi / kw / Lcrz) * math.sqrt(E * Iw / G / It)\n",
    "zj = 0 # section is symmetric about the y axis, therefore zeta_j is also zero\n",
    "zeta_j = math.pi * (zj) / kz / Lcrz * math.sqrt(E * Izeff / G / It)"
   ]
  },
  {
   "cell_type": "code",
   "execution_count": 1113,
   "id": "4bd1b2ad",
   "metadata": {},
   "outputs": [
    {
     "name": "stdout",
     "output_type": "stream",
     "text": [
      "kappa_wt                  =  7.114  [-]\n",
      "zeta_j                    =  0.000  [-]\n"
     ]
    }
   ],
   "source": [
    "print(\"kappa_wt                  = \", (\"%2.3f\" % kappa_wt), \" [-]\")\n",
    "print(\"zeta_j                    = \", (\"%2.3f\" % zeta_j), \" [-]\")"
   ]
  },
  {
   "cell_type": "code",
   "execution_count": 1114,
   "id": "a56443c2",
   "metadata": {},
   "outputs": [],
   "source": [
    "C10 = 1.77\n",
    "C11 = 1.85\n",
    "C1 = C10 + (C11 - C10) * kappa_wt\n",
    "C3 = 1"
   ]
  },
  {
   "cell_type": "code",
   "execution_count": 1115,
   "id": "178105ce",
   "metadata": {},
   "outputs": [],
   "source": [
    "# Dimensionless critical moment\n",
    "mu_cr = C1 / kz * (math.sqrt(1 + kappa_wt**2)) \n",
    "M_cr = (mu_cr * math.pi * math.sqrt(E * Izeff * G * It) / Lcrz) / 1000000\n",
    "# The relative slenderness\n",
    "lambda_LT_dash = math.sqrt(Wyeff  * fy.value / (M_cr * 1000000))\n",
    "\n",
    "curve = \"B\"\n",
    "# imperfection factor\n",
    "alphaLT=0.8 \n",
    "if curve == \"A0\":\n",
    "    alphaLT=0.13\n",
    "if curve == \"A\":\n",
    "    alphaLT=0.21\n",
    "if curve == \"B\":\n",
    "    alphaLT=0.34\n",
    "if curve == \"C\":\n",
    "    alphaLT=0.49\n",
    "if curve == \"D\":\n",
    "    alphaLT=0.76\n",
    "\n",
    "PHI_LT = 0.5 * (1 + alphaLT * (lambda_LT_dash - 0.2) + lambda_LT_dash**2)\n",
    "chi_LT = min(1, 1 / (PHI_LT + math.sqrt(PHI_LT**2 - lambda_LT_dash**2)))"
   ]
  },
  {
   "cell_type": "code",
   "execution_count": 1116,
   "id": "a07f5beb",
   "metadata": {},
   "outputs": [
    {
     "name": "stdout",
     "output_type": "stream",
     "text": [
      "lambda_LT_dash            =  0.456  [-]\n",
      "PHI_LT                    =  0.648  [-]\n",
      "chi_LT                    =  0.903  [-]\n",
      "mu_cr                     =  16.805  [-]\n",
      "M_cr                      =  874.094  [kNm]\n"
     ]
    }
   ],
   "source": [
    "print(\"lambda_LT_dash            = \", (\"%2.3f\" % lambda_LT_dash), \" [-]\")\n",
    "print(\"PHI_LT                    = \", (\"%2.3f\" % PHI_LT), \" [-]\")\n",
    "print(\"chi_LT                    = \", (\"%2.3f\" % chi_LT), \" [-]\")\n",
    "print(\"mu_cr                     = \", (\"%2.3f\" % mu_cr), \" [-]\")\n",
    "print(\"M_cr                      = \", (\"%2.3f\" % M_cr), \" [kNm]\")\n"
   ]
  },
  {
   "cell_type": "markdown",
   "id": "495efa11",
   "metadata": {},
   "source": [
    "### Interaction of bending moment and axial force"
   ]
  },
  {
   "cell_type": "code",
   "execution_count": 1117,
   "id": "672b09d5",
   "metadata": {},
   "outputs": [],
   "source": [
    "Cmy = 0.9\n",
    "psi = 0    #Table NB.3.1 of CSN EN 1993-1-1\n",
    "CmLT = max(0.4, 0.6 + psi * 0.4)"
   ]
  },
  {
   "cell_type": "code",
   "execution_count": 1118,
   "id": "d4ffbfe6",
   "metadata": {},
   "outputs": [],
   "source": [
    "NEd = axial_compression.value\n",
    "MEd = bending_moment_eave.value\n",
    "\n",
    "# for class 4:\n",
    "kyy = min(Cmy*(1 + (0.6 * lambda_dash_y)* NEd / chi_y / NRd), Cmy * (1 + 0.6 * NEd / chi_y / NRd))\n",
    "kzy = max(1 - 0.05 * lambda_dash_z * NEd / (CmLT - 0.25) / chi_z / NRd, 1 - 0.05 * NEd / (CmLT - 0.25) / chi_z / NRd )\n",
    "\n",
    "UF1 = NEd * gammaM1.value / chi_y / NRd + kyy * MEd * gammaM1.value / chi_LT / MyRd\n",
    "UF2 = NEd * gammaM1.value / chi_z / NRd + kzy * MEd * gammaM1.value / chi_LT / MyRd"
   ]
  },
  {
   "cell_type": "code",
   "execution_count": 1119,
   "id": "3ce46ad1",
   "metadata": {},
   "outputs": [
    {
     "name": "stdout",
     "output_type": "stream",
     "text": [
      "CmLT                      =  0.600  [-]\n",
      "kyy                       =  0.916  [-]\n",
      "kzy                       =  0.994  [-]\n",
      "NRd                       =  1638.900  [kN]\n",
      "MyRd                      =  182.133  [kNm]\n",
      "NEd                       =  58.000  [kN]\n",
      "MEd                       =  72.000  [kNm]\n",
      "UF1                       =  0.442  [-]\n",
      "UF2                       =  0.484  [-]\n"
     ]
    }
   ],
   "source": [
    "print(\"CmLT                      = \", (\"%2.3f\" % CmLT), \" [-]\")\n",
    "print(\"kyy                       = \", (\"%2.3f\" % kyy), \" [-]\")\n",
    "print(\"kzy                       = \", (\"%2.3f\" % kzy), \" [-]\")\n",
    "print(\"NRd                       = \", (\"%2.3f\" % NRd), \" [kN]\")\n",
    "print(\"MyRd                      = \", (\"%2.3f\" % MyRd), \" [kNm]\")\n",
    "print(\"NEd                       = \", (\"%2.3f\" % NEd), \" [kN]\")\n",
    "print(\"MEd                       = \", (\"%2.3f\" % MEd), \" [kNm]\")\n",
    "print(\"UF1                       = \", (\"%2.3f\" % UF1), \" [-]\")\n",
    "print(\"UF2                       = \", (\"%2.3f\" % UF2), \" [-]\")"
   ]
  },
  {
   "cell_type": "code",
   "execution_count": null,
   "id": "59ae83f6-ee46-4924-a44a-cf79c244d51e",
   "metadata": {},
   "outputs": [],
   "source": []
  }
 ],
 "metadata": {
  "hide_input": false,
  "kernelspec": {
   "display_name": "Python 3 (ipykernel)",
   "language": "python",
   "name": "python3"
  },
  "language_info": {
   "codemirror_mode": {
    "name": "ipython",
    "version": 3
   },
   "file_extension": ".py",
   "mimetype": "text/x-python",
   "name": "python",
   "nbconvert_exporter": "python",
   "pygments_lexer": "ipython3",
   "version": "3.13.2"
  }
 },
 "nbformat": 4,
 "nbformat_minor": 5
}
